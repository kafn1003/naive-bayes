{
 "cells": [
  {
   "cell_type": "markdown",
   "id": "b031284b",
   "metadata": {},
   "source": [
    "### Naive Bayes Algorithm"
   ]
  },
  {
   "cell_type": "markdown",
   "id": "9db048c3",
   "metadata": {},
   "source": [
    "**JIFRY ISSADEEN** <br>\n",
    "https://www.kaggle.com/datasets/elakiricoder/gender-classification-dataset"
   ]
  },
  {
   "cell_type": "markdown",
   "id": "3938efdd",
   "metadata": {},
   "source": [
    "**METHODOLOGY**\n",
    "\n",
    "* The dataset was extracted from Kaggle Dataset Repository\n",
    "* The dataset has 5001 instances and with the following 8 features:\n",
    "\n",
    "\n",
    "| Name                         | Type\n",
    "|-------------------- ---------|-------------\n",
    "| long_hair                    | Categorical\n",
    "| forehead_width_cm            | Numeric \n",
    "| forehead_height_cm           | Numeric\n",
    "| nose_wide                    | Categorical\n",
    "| nose_long\t                   | Categorical\n",
    "| lips_thin                    | Categorical\n",
    "| distance_nose_to_lip_long    | Categorical\n",
    "| gender                       | Categorical"
   ]
  },
  {
   "cell_type": "code",
   "execution_count": 1,
   "id": "612546b7",
   "metadata": {},
   "outputs": [],
   "source": [
    "# Load libraries\n",
    "\n",
    "import numpy as np \n",
    "import pandas as pd \n",
    "import matplotlib.pyplot as plt \n",
    "import seaborn as sns\n",
    "\n",
    "from sklearn.metrics import confusion_matrix, f1_score, classification_report, accuracy_score\n",
    "from sklearn.model_selection import train_test_split\n",
    "from sklearn.naive_bayes import BernoulliNB\n",
    "from sklearn.naive_bayes import GaussianNB\n",
    "from sklearn.naive_bayes import MultinomialNB\n",
    "\n",
    "%matplotlib inline"
   ]
  },
  {
   "cell_type": "code",
   "execution_count": 2,
   "id": "1ea00d1e",
   "metadata": {
    "scrolled": true
   },
   "outputs": [
    {
     "name": "stdout",
     "output_type": "stream",
     "text": [
      "Dataset Length:  5001\n",
      "\n",
      "Dataset Shape:  (5001, 8)\n"
     ]
    }
   ],
   "source": [
    "#Open/Read Dataset\n",
    "\n",
    "data = pd.read_csv('gender_classification_v7.csv')\n",
    "\n",
    "# Printing the dataset shape\n",
    "print (\"Dataset Length: \", len(data))\n",
    "print (\"\\nDataset Shape: \", data.shape)"
   ]
  },
  {
   "cell_type": "code",
   "execution_count": 3,
   "id": "25917eac",
   "metadata": {},
   "outputs": [
    {
     "data": {
      "text/html": [
       "<div>\n",
       "<style scoped>\n",
       "    .dataframe tbody tr th:only-of-type {\n",
       "        vertical-align: middle;\n",
       "    }\n",
       "\n",
       "    .dataframe tbody tr th {\n",
       "        vertical-align: top;\n",
       "    }\n",
       "\n",
       "    .dataframe thead th {\n",
       "        text-align: right;\n",
       "    }\n",
       "</style>\n",
       "<table border=\"1\" class=\"dataframe\">\n",
       "  <thead>\n",
       "    <tr style=\"text-align: right;\">\n",
       "      <th></th>\n",
       "      <th>long_hair</th>\n",
       "      <th>forehead_width_cm</th>\n",
       "      <th>forehead_height_cm</th>\n",
       "      <th>nose_wide</th>\n",
       "      <th>nose_long</th>\n",
       "      <th>lips_thin</th>\n",
       "      <th>distance_nose_to_lip_long</th>\n",
       "      <th>gender</th>\n",
       "    </tr>\n",
       "  </thead>\n",
       "  <tbody>\n",
       "    <tr>\n",
       "      <th>0</th>\n",
       "      <td>1</td>\n",
       "      <td>11.8</td>\n",
       "      <td>6.1</td>\n",
       "      <td>1</td>\n",
       "      <td>0</td>\n",
       "      <td>1</td>\n",
       "      <td>1</td>\n",
       "      <td>Male</td>\n",
       "    </tr>\n",
       "    <tr>\n",
       "      <th>1</th>\n",
       "      <td>0</td>\n",
       "      <td>14.0</td>\n",
       "      <td>5.4</td>\n",
       "      <td>0</td>\n",
       "      <td>0</td>\n",
       "      <td>1</td>\n",
       "      <td>0</td>\n",
       "      <td>Female</td>\n",
       "    </tr>\n",
       "    <tr>\n",
       "      <th>2</th>\n",
       "      <td>0</td>\n",
       "      <td>11.8</td>\n",
       "      <td>6.3</td>\n",
       "      <td>1</td>\n",
       "      <td>1</td>\n",
       "      <td>1</td>\n",
       "      <td>1</td>\n",
       "      <td>Male</td>\n",
       "    </tr>\n",
       "    <tr>\n",
       "      <th>3</th>\n",
       "      <td>0</td>\n",
       "      <td>14.4</td>\n",
       "      <td>6.1</td>\n",
       "      <td>0</td>\n",
       "      <td>1</td>\n",
       "      <td>1</td>\n",
       "      <td>1</td>\n",
       "      <td>Male</td>\n",
       "    </tr>\n",
       "    <tr>\n",
       "      <th>4</th>\n",
       "      <td>1</td>\n",
       "      <td>13.5</td>\n",
       "      <td>5.9</td>\n",
       "      <td>0</td>\n",
       "      <td>0</td>\n",
       "      <td>0</td>\n",
       "      <td>0</td>\n",
       "      <td>Female</td>\n",
       "    </tr>\n",
       "  </tbody>\n",
       "</table>\n",
       "</div>"
      ],
      "text/plain": [
       "   long_hair  forehead_width_cm  forehead_height_cm  nose_wide  nose_long  \\\n",
       "0          1               11.8                 6.1          1          0   \n",
       "1          0               14.0                 5.4          0          0   \n",
       "2          0               11.8                 6.3          1          1   \n",
       "3          0               14.4                 6.1          0          1   \n",
       "4          1               13.5                 5.9          0          0   \n",
       "\n",
       "   lips_thin  distance_nose_to_lip_long  gender  \n",
       "0          1                          1    Male  \n",
       "1          1                          0  Female  \n",
       "2          1                          1    Male  \n",
       "3          1                          1    Male  \n",
       "4          0                          0  Female  "
      ]
     },
     "execution_count": 3,
     "metadata": {},
     "output_type": "execute_result"
    }
   ],
   "source": [
    "#Display first 5 values\n",
    "\n",
    "data.head()"
   ]
  },
  {
   "cell_type": "code",
   "execution_count": 4,
   "id": "802f46c8",
   "metadata": {},
   "outputs": [
    {
     "name": "stdout",
     "output_type": "stream",
     "text": [
      "<class 'pandas.core.frame.DataFrame'>\n",
      "RangeIndex: 5001 entries, 0 to 5000\n",
      "Data columns (total 8 columns):\n",
      " #   Column                     Non-Null Count  Dtype  \n",
      "---  ------                     --------------  -----  \n",
      " 0   long_hair                  5001 non-null   int64  \n",
      " 1   forehead_width_cm          5001 non-null   float64\n",
      " 2   forehead_height_cm         5001 non-null   float64\n",
      " 3   nose_wide                  5001 non-null   int64  \n",
      " 4   nose_long                  5001 non-null   int64  \n",
      " 5   lips_thin                  5001 non-null   int64  \n",
      " 6   distance_nose_to_lip_long  5001 non-null   int64  \n",
      " 7   gender                     5001 non-null   object \n",
      "dtypes: float64(2), int64(5), object(1)\n",
      "memory usage: 312.7+ KB\n"
     ]
    }
   ],
   "source": [
    "#Summary of Data\n",
    "\n",
    "data.info()"
   ]
  },
  {
   "cell_type": "code",
   "execution_count": 5,
   "id": "0918ce9b",
   "metadata": {},
   "outputs": [
    {
     "data": {
      "text/plain": [
       "Female    2501\n",
       "Male      2500\n",
       "Name: gender, dtype: int64"
      ]
     },
     "execution_count": 5,
     "metadata": {},
     "output_type": "execute_result"
    }
   ],
   "source": [
    "data['gender'].value_counts()"
   ]
  },
  {
   "cell_type": "code",
   "execution_count": 6,
   "id": "de11fb90",
   "metadata": {},
   "outputs": [
    {
     "data": {
      "text/plain": [
       "long_hair                    0\n",
       "forehead_width_cm            0\n",
       "forehead_height_cm           0\n",
       "nose_wide                    0\n",
       "nose_long                    0\n",
       "lips_thin                    0\n",
       "distance_nose_to_lip_long    0\n",
       "gender                       0\n",
       "dtype: int64"
      ]
     },
     "execution_count": 6,
     "metadata": {},
     "output_type": "execute_result"
    }
   ],
   "source": [
    "#Check for missing values\n",
    "\n",
    "data.isnull().sum()"
   ]
  },
  {
   "cell_type": "code",
   "execution_count": 7,
   "id": "e746d13b",
   "metadata": {},
   "outputs": [],
   "source": [
    "#Splitting feature and target variables\n",
    "\n",
    "feature = data.drop(['gender'], axis = 1)\n",
    "\n",
    "target = data['gender']"
   ]
  },
  {
   "cell_type": "code",
   "execution_count": 8,
   "id": "a886ac57",
   "metadata": {},
   "outputs": [
    {
     "data": {
      "text/html": [
       "<div>\n",
       "<style scoped>\n",
       "    .dataframe tbody tr th:only-of-type {\n",
       "        vertical-align: middle;\n",
       "    }\n",
       "\n",
       "    .dataframe tbody tr th {\n",
       "        vertical-align: top;\n",
       "    }\n",
       "\n",
       "    .dataframe thead th {\n",
       "        text-align: right;\n",
       "    }\n",
       "</style>\n",
       "<table border=\"1\" class=\"dataframe\">\n",
       "  <thead>\n",
       "    <tr style=\"text-align: right;\">\n",
       "      <th></th>\n",
       "      <th>long_hair</th>\n",
       "      <th>forehead_width_cm</th>\n",
       "      <th>forehead_height_cm</th>\n",
       "      <th>nose_wide</th>\n",
       "      <th>nose_long</th>\n",
       "      <th>lips_thin</th>\n",
       "      <th>distance_nose_to_lip_long</th>\n",
       "    </tr>\n",
       "  </thead>\n",
       "  <tbody>\n",
       "    <tr>\n",
       "      <th>0</th>\n",
       "      <td>1</td>\n",
       "      <td>11.8</td>\n",
       "      <td>6.1</td>\n",
       "      <td>1</td>\n",
       "      <td>0</td>\n",
       "      <td>1</td>\n",
       "      <td>1</td>\n",
       "    </tr>\n",
       "    <tr>\n",
       "      <th>1</th>\n",
       "      <td>0</td>\n",
       "      <td>14.0</td>\n",
       "      <td>5.4</td>\n",
       "      <td>0</td>\n",
       "      <td>0</td>\n",
       "      <td>1</td>\n",
       "      <td>0</td>\n",
       "    </tr>\n",
       "    <tr>\n",
       "      <th>2</th>\n",
       "      <td>0</td>\n",
       "      <td>11.8</td>\n",
       "      <td>6.3</td>\n",
       "      <td>1</td>\n",
       "      <td>1</td>\n",
       "      <td>1</td>\n",
       "      <td>1</td>\n",
       "    </tr>\n",
       "    <tr>\n",
       "      <th>3</th>\n",
       "      <td>0</td>\n",
       "      <td>14.4</td>\n",
       "      <td>6.1</td>\n",
       "      <td>0</td>\n",
       "      <td>1</td>\n",
       "      <td>1</td>\n",
       "      <td>1</td>\n",
       "    </tr>\n",
       "    <tr>\n",
       "      <th>4</th>\n",
       "      <td>1</td>\n",
       "      <td>13.5</td>\n",
       "      <td>5.9</td>\n",
       "      <td>0</td>\n",
       "      <td>0</td>\n",
       "      <td>0</td>\n",
       "      <td>0</td>\n",
       "    </tr>\n",
       "  </tbody>\n",
       "</table>\n",
       "</div>"
      ],
      "text/plain": [
       "   long_hair  forehead_width_cm  forehead_height_cm  nose_wide  nose_long  \\\n",
       "0          1               11.8                 6.1          1          0   \n",
       "1          0               14.0                 5.4          0          0   \n",
       "2          0               11.8                 6.3          1          1   \n",
       "3          0               14.4                 6.1          0          1   \n",
       "4          1               13.5                 5.9          0          0   \n",
       "\n",
       "   lips_thin  distance_nose_to_lip_long  \n",
       "0          1                          1  \n",
       "1          1                          0  \n",
       "2          1                          1  \n",
       "3          1                          1  \n",
       "4          0                          0  "
      ]
     },
     "execution_count": 8,
     "metadata": {},
     "output_type": "execute_result"
    }
   ],
   "source": [
    "#Display first 5 values from the feature variables\n",
    "\n",
    "feature.head()"
   ]
  },
  {
   "cell_type": "code",
   "execution_count": 9,
   "id": "4e0548c4",
   "metadata": {},
   "outputs": [
    {
     "data": {
      "text/plain": [
       "0      Male\n",
       "1    Female\n",
       "2      Male\n",
       "3      Male\n",
       "4    Female\n",
       "Name: gender, dtype: object"
      ]
     },
     "execution_count": 9,
     "metadata": {},
     "output_type": "execute_result"
    }
   ],
   "source": [
    "#Display first 5 values from the target variable\n",
    "\n",
    "target.head()"
   ]
  },
  {
   "cell_type": "code",
   "execution_count": 10,
   "id": "812b0a02",
   "metadata": {},
   "outputs": [],
   "source": [
    "#Splitting the data into training and testing sets\n",
    "\n",
    "feature_train, feature_test, target_train, target_test = train_test_split(feature, target, test_size = 0.30, random_state = 0)"
   ]
  },
  {
   "cell_type": "code",
   "execution_count": 11,
   "id": "3129dcb5",
   "metadata": {},
   "outputs": [
    {
     "name": "stdout",
     "output_type": "stream",
     "text": [
      "SUMMARY OF SPLITTED TRAINING AND TEST SETS\n",
      "\n",
      "--Number of Training Set: 3500\n",
      "--Training Size: 69.98600279944012 %\n",
      "\n",
      "--Number of Test Set: 1501\n",
      "--Test Size: 30.01399720055989 %\n"
     ]
    }
   ],
   "source": [
    "#Test Size and Training set Info\n",
    "\n",
    "print(\"SUMMARY OF SPLITTED TRAINING AND TEST SETS\\n\")\n",
    "\n",
    "print('--Number of Training Set:',len(feature_train))\n",
    "\n",
    "print('--Training Size:', len(feature_train)/len(data) * 100, '%')\n",
    "\n",
    "print('\\n--Number of Test Set:',len(feature_test))\n",
    "\n",
    "print('--Test Size:', len(feature_test)/len(data) * 100, '%')"
   ]
  },
  {
   "cell_type": "code",
   "execution_count": 12,
   "id": "bac28ca3",
   "metadata": {},
   "outputs": [
    {
     "data": {
      "text/plain": [
       "((3500, 7), (1501, 7))"
      ]
     },
     "execution_count": 12,
     "metadata": {},
     "output_type": "execute_result"
    }
   ],
   "source": [
    "feature_train.shape, feature_test.shape"
   ]
  },
  {
   "cell_type": "code",
   "execution_count": 13,
   "id": "a869889c",
   "metadata": {},
   "outputs": [
    {
     "data": {
      "text/plain": [
       "long_hair                      int64\n",
       "forehead_width_cm            float64\n",
       "forehead_height_cm           float64\n",
       "nose_wide                      int64\n",
       "nose_long                      int64\n",
       "lips_thin                      int64\n",
       "distance_nose_to_lip_long      int64\n",
       "dtype: object"
      ]
     },
     "execution_count": 13,
     "metadata": {},
     "output_type": "execute_result"
    }
   ],
   "source": [
    "#Feature Engineering\n",
    "\n",
    "feature_train.dtypes"
   ]
  },
  {
   "cell_type": "code",
   "execution_count": 14,
   "id": "da955340",
   "metadata": {},
   "outputs": [
    {
     "data": {
      "text/html": [
       "<div>\n",
       "<style scoped>\n",
       "    .dataframe tbody tr th:only-of-type {\n",
       "        vertical-align: middle;\n",
       "    }\n",
       "\n",
       "    .dataframe tbody tr th {\n",
       "        vertical-align: top;\n",
       "    }\n",
       "\n",
       "    .dataframe thead th {\n",
       "        text-align: right;\n",
       "    }\n",
       "</style>\n",
       "<table border=\"1\" class=\"dataframe\">\n",
       "  <thead>\n",
       "    <tr style=\"text-align: right;\">\n",
       "      <th></th>\n",
       "      <th>long_hair</th>\n",
       "      <th>forehead_width_cm</th>\n",
       "      <th>forehead_height_cm</th>\n",
       "      <th>nose_wide</th>\n",
       "      <th>nose_long</th>\n",
       "      <th>lips_thin</th>\n",
       "      <th>distance_nose_to_lip_long</th>\n",
       "    </tr>\n",
       "  </thead>\n",
       "  <tbody>\n",
       "    <tr>\n",
       "      <th>4160</th>\n",
       "      <td>1</td>\n",
       "      <td>12.3</td>\n",
       "      <td>5.8</td>\n",
       "      <td>0</td>\n",
       "      <td>1</td>\n",
       "      <td>1</td>\n",
       "      <td>0</td>\n",
       "    </tr>\n",
       "    <tr>\n",
       "      <th>1073</th>\n",
       "      <td>1</td>\n",
       "      <td>14.7</td>\n",
       "      <td>6.3</td>\n",
       "      <td>1</td>\n",
       "      <td>1</td>\n",
       "      <td>1</td>\n",
       "      <td>0</td>\n",
       "    </tr>\n",
       "    <tr>\n",
       "      <th>3583</th>\n",
       "      <td>1</td>\n",
       "      <td>13.1</td>\n",
       "      <td>6.1</td>\n",
       "      <td>1</td>\n",
       "      <td>0</td>\n",
       "      <td>1</td>\n",
       "      <td>1</td>\n",
       "    </tr>\n",
       "    <tr>\n",
       "      <th>1357</th>\n",
       "      <td>1</td>\n",
       "      <td>15.2</td>\n",
       "      <td>5.9</td>\n",
       "      <td>0</td>\n",
       "      <td>1</td>\n",
       "      <td>1</td>\n",
       "      <td>1</td>\n",
       "    </tr>\n",
       "    <tr>\n",
       "      <th>4645</th>\n",
       "      <td>0</td>\n",
       "      <td>15.4</td>\n",
       "      <td>5.7</td>\n",
       "      <td>1</td>\n",
       "      <td>1</td>\n",
       "      <td>1</td>\n",
       "      <td>1</td>\n",
       "    </tr>\n",
       "  </tbody>\n",
       "</table>\n",
       "</div>"
      ],
      "text/plain": [
       "      long_hair  forehead_width_cm  forehead_height_cm  nose_wide  nose_long  \\\n",
       "4160          1               12.3                 5.8          0          1   \n",
       "1073          1               14.7                 6.3          1          1   \n",
       "3583          1               13.1                 6.1          1          0   \n",
       "1357          1               15.2                 5.9          0          1   \n",
       "4645          0               15.4                 5.7          1          1   \n",
       "\n",
       "      lips_thin  distance_nose_to_lip_long  \n",
       "4160          1                          0  \n",
       "1073          1                          0  \n",
       "3583          1                          1  \n",
       "1357          1                          1  \n",
       "4645          1                          1  "
      ]
     },
     "execution_count": 14,
     "metadata": {},
     "output_type": "execute_result"
    }
   ],
   "source": [
    "feature_train.head()"
   ]
  },
  {
   "cell_type": "code",
   "execution_count": 15,
   "id": "53cc79f0",
   "metadata": {},
   "outputs": [
    {
     "data": {
      "text/html": [
       "<div>\n",
       "<style scoped>\n",
       "    .dataframe tbody tr th:only-of-type {\n",
       "        vertical-align: middle;\n",
       "    }\n",
       "\n",
       "    .dataframe tbody tr th {\n",
       "        vertical-align: top;\n",
       "    }\n",
       "\n",
       "    .dataframe thead th {\n",
       "        text-align: right;\n",
       "    }\n",
       "</style>\n",
       "<table border=\"1\" class=\"dataframe\">\n",
       "  <thead>\n",
       "    <tr style=\"text-align: right;\">\n",
       "      <th></th>\n",
       "      <th>long_hair</th>\n",
       "      <th>forehead_width_cm</th>\n",
       "      <th>forehead_height_cm</th>\n",
       "      <th>nose_wide</th>\n",
       "      <th>nose_long</th>\n",
       "      <th>lips_thin</th>\n",
       "      <th>distance_nose_to_lip_long</th>\n",
       "    </tr>\n",
       "  </thead>\n",
       "  <tbody>\n",
       "    <tr>\n",
       "      <th>2373</th>\n",
       "      <td>1</td>\n",
       "      <td>12.4</td>\n",
       "      <td>5.1</td>\n",
       "      <td>0</td>\n",
       "      <td>0</td>\n",
       "      <td>0</td>\n",
       "      <td>0</td>\n",
       "    </tr>\n",
       "    <tr>\n",
       "      <th>2755</th>\n",
       "      <td>1</td>\n",
       "      <td>12.4</td>\n",
       "      <td>5.7</td>\n",
       "      <td>1</td>\n",
       "      <td>1</td>\n",
       "      <td>1</td>\n",
       "      <td>1</td>\n",
       "    </tr>\n",
       "    <tr>\n",
       "      <th>2265</th>\n",
       "      <td>1</td>\n",
       "      <td>13.4</td>\n",
       "      <td>5.5</td>\n",
       "      <td>0</td>\n",
       "      <td>1</td>\n",
       "      <td>1</td>\n",
       "      <td>1</td>\n",
       "    </tr>\n",
       "    <tr>\n",
       "      <th>3901</th>\n",
       "      <td>1</td>\n",
       "      <td>12.0</td>\n",
       "      <td>6.1</td>\n",
       "      <td>0</td>\n",
       "      <td>0</td>\n",
       "      <td>0</td>\n",
       "      <td>0</td>\n",
       "    </tr>\n",
       "    <tr>\n",
       "      <th>3175</th>\n",
       "      <td>1</td>\n",
       "      <td>12.5</td>\n",
       "      <td>5.7</td>\n",
       "      <td>0</td>\n",
       "      <td>0</td>\n",
       "      <td>0</td>\n",
       "      <td>0</td>\n",
       "    </tr>\n",
       "  </tbody>\n",
       "</table>\n",
       "</div>"
      ],
      "text/plain": [
       "      long_hair  forehead_width_cm  forehead_height_cm  nose_wide  nose_long  \\\n",
       "2373          1               12.4                 5.1          0          0   \n",
       "2755          1               12.4                 5.7          1          1   \n",
       "2265          1               13.4                 5.5          0          1   \n",
       "3901          1               12.0                 6.1          0          0   \n",
       "3175          1               12.5                 5.7          0          0   \n",
       "\n",
       "      lips_thin  distance_nose_to_lip_long  \n",
       "2373          0                          0  \n",
       "2755          1                          1  \n",
       "2265          1                          1  \n",
       "3901          0                          0  \n",
       "3175          0                          0  "
      ]
     },
     "execution_count": 15,
     "metadata": {},
     "output_type": "execute_result"
    }
   ],
   "source": [
    "feature_test.head()"
   ]
  },
  {
   "cell_type": "markdown",
   "id": "dda2f251",
   "metadata": {},
   "source": [
    "**Using Bernoulli Naive Bayes Classifier**"
   ]
  },
  {
   "cell_type": "code",
   "execution_count": 16,
   "id": "7c9ecbbd",
   "metadata": {},
   "outputs": [
    {
     "data": {
      "text/plain": [
       "BernoulliNB()"
      ]
     },
     "execution_count": 16,
     "metadata": {},
     "output_type": "execute_result"
    }
   ],
   "source": [
    "#Creating Naive Bayes Classifier Object using BernoulliNB()\n",
    "bnb = BernoulliNB()\n",
    "\n",
    "#Fitting the Model\n",
    "bnb.fit(feature_train, target_train)"
   ]
  },
  {
   "cell_type": "code",
   "execution_count": 17,
   "id": "4f14f70c",
   "metadata": {},
   "outputs": [
    {
     "data": {
      "text/plain": [
       "array(['Female', 'Male', 'Male', ..., 'Female', 'Female', 'Female'],\n",
       "      dtype='<U6')"
      ]
     },
     "execution_count": 17,
     "metadata": {},
     "output_type": "execute_result"
    }
   ],
   "source": [
    "#Predicting using test set\n",
    "\n",
    "target_pred = bnb.predict(feature_test)\n",
    "\n",
    "target_pred"
   ]
  },
  {
   "cell_type": "code",
   "execution_count": 18,
   "id": "6738268f",
   "metadata": {},
   "outputs": [
    {
     "data": {
      "text/plain": [
       "array(['Female', 'Male', 'Male', ..., 'Female', 'Male', 'Female'],\n",
       "      dtype='<U6')"
      ]
     },
     "execution_count": 18,
     "metadata": {},
     "output_type": "execute_result"
    }
   ],
   "source": [
    "#Predicting using train set\n",
    "\n",
    "target_pred_train = bnb.predict(feature_train)\n",
    "\n",
    "target_pred_train"
   ]
  },
  {
   "cell_type": "code",
   "execution_count": 19,
   "id": "a7972672",
   "metadata": {},
   "outputs": [
    {
     "name": "stdout",
     "output_type": "stream",
     "text": [
      "Model Accuracy for Testing Set: 0.9580\n",
      "\n",
      "Model Accuracy for Training Set: 0.9611\n"
     ]
    }
   ],
   "source": [
    "#Checking accuracy of Training Set and Testing Set to check for Overfitting/Underfitting\n",
    "\n",
    "print('Model Accuracy for Testing Set: {0:0.4f}'. format(accuracy_score(target_test, target_pred)))\n",
    "\n",
    "print('\\nModel Accuracy for Training Set: {0:0.4f}'. format(accuracy_score(target_train, target_pred_train)))"
   ]
  },
  {
   "cell_type": "code",
   "execution_count": 20,
   "id": "dac4fea9",
   "metadata": {},
   "outputs": [
    {
     "data": {
      "text/plain": [
       "count       1501\n",
       "unique         2\n",
       "top       Female\n",
       "freq         764\n",
       "Name: gender, dtype: object"
      ]
     },
     "execution_count": 20,
     "metadata": {},
     "output_type": "execute_result"
    }
   ],
   "source": [
    "#Comparing Null Accuracy and Model Accuracy\n",
    "\n",
    "target_test.describe()"
   ]
  },
  {
   "cell_type": "code",
   "execution_count": 21,
   "id": "b7b0d2b0",
   "metadata": {},
   "outputs": [
    {
     "name": "stdout",
     "output_type": "stream",
     "text": [
      "Model Accuracy: 0.9580\n",
      "\n",
      "Null Accuracy: 0.5090\n"
     ]
    }
   ],
   "source": [
    "#Comparing Null Accuracy and Model Accuracy\n",
    "\n",
    "null_acc = target_test.describe()[3] / target_test.describe()[0]\n",
    "\n",
    "print('Model Accuracy: {0:0.4f}'. format(accuracy_score(target_test, target_pred)))\n",
    "\n",
    "print('\\nNull Accuracy: {0:0.4f}'. format(null_acc))"
   ]
  },
  {
   "cell_type": "code",
   "execution_count": 22,
   "id": "acadd723",
   "metadata": {},
   "outputs": [
    {
     "name": "stdout",
     "output_type": "stream",
     "text": [
      "Confusion matrix\n",
      "\n",
      " [[718  17]\n",
      " [ 46 720]]\n",
      "\n",
      "True Positives(TP) =  718\n",
      "\n",
      "True Negatives(TN) =  720\n",
      "\n",
      "False Positives(FP) =  17\n",
      "\n",
      "False Negatives(FN) =  46\n"
     ]
    }
   ],
   "source": [
    "#Confusion Matrix\n",
    "\n",
    "cm = confusion_matrix(target_pred, target_test)\n",
    "\n",
    "print('Confusion matrix\\n\\n', cm)\n",
    "\n",
    "print('\\nTrue Positives(TP) = ', cm[0,0])\n",
    "\n",
    "print('\\nTrue Negatives(TN) = ', cm[1,1])\n",
    "\n",
    "print('\\nFalse Positives(FP) = ', cm[0,1])\n",
    "\n",
    "print('\\nFalse Negatives(FN) = ', cm[1,0])"
   ]
  },
  {
   "cell_type": "code",
   "execution_count": 25,
   "id": "290d41b7",
   "metadata": {},
   "outputs": [
    {
     "data": {
      "image/png": "[encoded data removed]",
      "text/plain": [
       "<Figure size 432x288 with 2 Axes>"
      ]
     },
     "metadata": {
      "needs_background": "light"
     },
     "output_type": "display_data"
    }
   ],
   "source": [
    "#Visualization of Confusion Matrix\n",
    "\n",
    "sns.heatmap(cm, annot = True)\n",
    "plt.savefig('confusion.png')"
   ]
  },
  {
   "cell_type": "code",
   "execution_count": 26,
   "id": "62b1bc10",
   "metadata": {},
   "outputs": [
    {
     "name": "stdout",
     "output_type": "stream",
     "text": [
      "              precision    recall  f1-score   support\n",
      "\n",
      "      Female       0.98      0.94      0.96       764\n",
      "        Male       0.94      0.98      0.96       737\n",
      "\n",
      "    accuracy                           0.96      1501\n",
      "   macro avg       0.96      0.96      0.96      1501\n",
      "weighted avg       0.96      0.96      0.96      1501\n",
      "\n"
     ]
    }
   ],
   "source": [
    "#Evaluation Metrics Report\n",
    "\n",
    "print(classification_report(target_test, target_pred, zero_division = 0))"
   ]
  },
  {
   "cell_type": "markdown",
   "id": "4658c1dd",
   "metadata": {},
   "source": [
    "____________________________________________\n",
    "**Using Gaussian Naive Bayes Classifier**"
   ]
  },
  {
   "cell_type": "code",
   "execution_count": 27,
   "id": "231c4258",
   "metadata": {},
   "outputs": [],
   "source": [
    "#Splitting feature and target variables\n",
    "\n",
    "feature1 = data.drop(['gender'], axis = 1)\n",
    "\n",
    "target1 = data['gender']\n",
    "\n",
    "#Splitting the data into training and testing sets\n",
    "\n",
    "feature_train1, feature_test1, target_train1, target_test1 = train_test_split(feature1, target1, test_size = 0.30, random_state = 0)"
   ]
  },
  {
   "cell_type": "code",
   "execution_count": 28,
   "id": "db734b81",
   "metadata": {},
   "outputs": [
    {
     "name": "stdout",
     "output_type": "stream",
     "text": [
      "SUMMARY OF SPLITTED TRAINING AND TEST SETS\n",
      "\n",
      "--Number of Training Set: 3500\n",
      "--Training Size: 69.98600279944012 %\n",
      "\n",
      "--Number of Test Set: 1501\n",
      "--Test Size: 30.01399720055989 %\n"
     ]
    }
   ],
   "source": [
    "#Test Size and Training set Info\n",
    "\n",
    "print(\"SUMMARY OF SPLITTED TRAINING AND TEST SETS\\n\")\n",
    "\n",
    "print('--Number of Training Set:',len(feature_train1))\n",
    "\n",
    "print('--Training Size:', len(feature_train1)/len(data) * 100, '%')\n",
    "\n",
    "print('\\n--Number of Test Set:',len(feature_test1))\n",
    "\n",
    "print('--Test Size:', len(feature_test1)/len(data) * 100, '%')"
   ]
  },
  {
   "cell_type": "code",
   "execution_count": 29,
   "id": "e08cbcce",
   "metadata": {},
   "outputs": [
    {
     "data": {
      "text/plain": [
       "GaussianNB()"
      ]
     },
     "execution_count": 29,
     "metadata": {},
     "output_type": "execute_result"
    }
   ],
   "source": [
    "#Creating Naive Bayes Classifier Object using GaussianNB()\n",
    "gnb = GaussianNB()\n",
    "\n",
    "#Fitting the Model\n",
    "gnb.fit(feature_train1, target_train1)"
   ]
  },
  {
   "cell_type": "code",
   "execution_count": 30,
   "id": "948d11b3",
   "metadata": {},
   "outputs": [
    {
     "data": {
      "text/plain": [
       "array(['Female', 'Male', 'Male', ..., 'Female', 'Female', 'Female'],\n",
       "      dtype='<U6')"
      ]
     },
     "execution_count": 30,
     "metadata": {},
     "output_type": "execute_result"
    }
   ],
   "source": [
    "#Predicting using test set\n",
    "\n",
    "target_pred1 = gnb.predict(feature_test1)\n",
    "\n",
    "target_pred1"
   ]
  },
  {
   "cell_type": "code",
   "execution_count": 31,
   "id": "90c17dfe",
   "metadata": {},
   "outputs": [
    {
     "data": {
      "text/plain": [
       "array(['Female', 'Male', 'Male', ..., 'Female', 'Male', 'Female'],\n",
       "      dtype='<U6')"
      ]
     },
     "execution_count": 31,
     "metadata": {},
     "output_type": "execute_result"
    }
   ],
   "source": [
    "#Predicting using train set\n",
    "\n",
    "target_pred_train1 = bnb.predict(feature_train1)\n",
    "\n",
    "target_pred_train1"
   ]
  },
  {
   "cell_type": "code",
   "execution_count": 32,
   "id": "725f0e96",
   "metadata": {},
   "outputs": [
    {
     "name": "stdout",
     "output_type": "stream",
     "text": [
      "Model Accuracy for Testing Set: 0.9707\n",
      "\n",
      "Model Accuracy for Training Set: 0.9611\n"
     ]
    }
   ],
   "source": [
    "#Checking accuracy of Training Set and Testing Set to check for Overfitting/Underfitting\n",
    "\n",
    "print('Model Accuracy for Testing Set: {0:0.4f}'. format(accuracy_score(target_test1, target_pred1)))\n",
    "\n",
    "print('\\nModel Accuracy for Training Set: {0:0.4f}'. format(accuracy_score(target_train1, target_pred_train1)))"
   ]
  },
  {
   "cell_type": "code",
   "execution_count": 33,
   "id": "b6d80961",
   "metadata": {},
   "outputs": [
    {
     "data": {
      "text/plain": [
       "count       1501\n",
       "unique         2\n",
       "top       Female\n",
       "freq         764\n",
       "Name: gender, dtype: object"
      ]
     },
     "execution_count": 33,
     "metadata": {},
     "output_type": "execute_result"
    }
   ],
   "source": [
    "#Comparing Null Accuracy and Model Accuracy\n",
    "\n",
    "target_test1.describe()"
   ]
  },
  {
   "cell_type": "code",
   "execution_count": 34,
   "id": "a8a69609",
   "metadata": {},
   "outputs": [
    {
     "name": "stdout",
     "output_type": "stream",
     "text": [
      "Model Accuracy: 0.9707\n",
      "\n",
      "Null Accuracy: 0.5090\n"
     ]
    }
   ],
   "source": [
    "#Comparing Null Accuracy and Model Accuracy\n",
    "\n",
    "null_acc1 = target_test1.describe()[3] / target_test1.describe()[0]\n",
    "\n",
    "print('Model Accuracy: {0:0.4f}'. format(accuracy_score(target_test1, target_pred1)))\n",
    "\n",
    "print('\\nNull Accuracy: {0:0.4f}'. format(null_acc1))"
   ]
  },
  {
   "cell_type": "code",
   "execution_count": 35,
   "id": "0529bee5",
   "metadata": {},
   "outputs": [
    {
     "name": "stdout",
     "output_type": "stream",
     "text": [
      "Confusion matrix\n",
      "\n",
      " [[746  26]\n",
      " [ 18 711]]\n",
      "\n",
      "True Positives(TP) =  746\n",
      "\n",
      "True Negatives(TN) =  711\n",
      "\n",
      "False Positives(FP) =  26\n",
      "\n",
      "False Negatives(FN) =  18\n"
     ]
    }
   ],
   "source": [
    "#Confusion Matrix\n",
    "\n",
    "cm1 = confusion_matrix(target_pred1, target_test1)\n",
    "\n",
    "print('Confusion matrix\\n\\n', cm1)\n",
    "\n",
    "print('\\nTrue Positives(TP) = ', cm1[0,0])\n",
    "\n",
    "print('\\nTrue Negatives(TN) = ', cm1[1,1])\n",
    "\n",
    "print('\\nFalse Positives(FP) = ', cm1[0,1])\n",
    "\n",
    "print('\\nFalse Negatives(FN) = ', cm1[1,0])"
   ]
  },
  {
   "cell_type": "code",
   "execution_count": 36,
   "id": "daff3091",
   "metadata": {},
   "outputs": [
    {
     "data": {
      "image/png": "[encoded data removed]",
      "text/plain": [
       "<Figure size 432x288 with 2 Axes>"
      ]
     },
     "metadata": {
      "needs_background": "light"
     },
     "output_type": "display_data"
    }
   ],
   "source": [
    "#Visualization of Confusion Matrix\n",
    "\n",
    "sns.heatmap(cm1, annot = True)\n",
    "plt.savefig('confusion1.png')"
   ]
  },
  {
   "cell_type": "markdown",
   "id": "391978fa",
   "metadata": {},
   "source": [
    "____________________________________________\n",
    "**Using Multinomial Naive Bayes Classifier**"
   ]
  },
  {
   "cell_type": "code",
   "execution_count": 37,
   "id": "bb113b86",
   "metadata": {},
   "outputs": [],
   "source": [
    "#Splitting feature and target variables\n",
    "\n",
    "feature2 = data.drop(['gender'], axis = 1)\n",
    "\n",
    "target2 = data['gender']\n",
    "\n",
    "#Splitting the data into training and testing sets\n",
    "\n",
    "feature_train2, feature_test2, target_train2, target_test2 = train_test_split(feature2, target2, test_size = 0.30, random_state = 0)"
   ]
  },
  {
   "cell_type": "code",
   "execution_count": 38,
   "id": "59504208",
   "metadata": {},
   "outputs": [
    {
     "name": "stdout",
     "output_type": "stream",
     "text": [
      "SUMMARY OF SPLITTED TRAINING AND TEST SETS\n",
      "\n",
      "--Number of Training Set: 3500\n",
      "--Training Size: 69.98600279944012 %\n",
      "\n",
      "--Number of Test Set: 1501\n",
      "--Test Size: 30.01399720055989 %\n"
     ]
    }
   ],
   "source": [
    "#Test Size and Training set Info\n",
    "\n",
    "print(\"SUMMARY OF SPLITTED TRAINING AND TEST SETS\\n\")\n",
    "\n",
    "print('--Number of Training Set:',len(feature_train2))\n",
    "\n",
    "print('--Training Size:', len(feature_train2)/len(data) * 100, '%')\n",
    "\n",
    "print('\\n--Number of Test Set:',len(feature_test2))\n",
    "\n",
    "print('--Test Size:', len(feature_test2)/len(data) * 100, '%')"
   ]
  },
  {
   "cell_type": "code",
   "execution_count": 39,
   "id": "861ff479",
   "metadata": {},
   "outputs": [
    {
     "data": {
      "text/plain": [
       "MultinomialNB()"
      ]
     },
     "execution_count": 39,
     "metadata": {},
     "output_type": "execute_result"
    }
   ],
   "source": [
    "#Creating Naive Bayes Classifier Object using MultinomialNB()\n",
    "mnb = MultinomialNB()\n",
    "\n",
    "#Fitting the Model\n",
    "mnb.fit(feature_train2, target_train2)"
   ]
  },
  {
   "cell_type": "code",
   "execution_count": 40,
   "id": "9d3fb533",
   "metadata": {},
   "outputs": [
    {
     "data": {
      "text/plain": [
       "array(['Female', 'Male', 'Male', ..., 'Female', 'Female', 'Female'],\n",
       "      dtype='<U6')"
      ]
     },
     "execution_count": 40,
     "metadata": {},
     "output_type": "execute_result"
    }
   ],
   "source": [
    "#Predicting using test set\n",
    "\n",
    "target_pred2 = mnb.predict(feature_test2)\n",
    "\n",
    "target_pred2"
   ]
  },
  {
   "cell_type": "code",
   "execution_count": 41,
   "id": "9d02fbba",
   "metadata": {},
   "outputs": [
    {
     "data": {
      "text/plain": [
       "array(['Male', 'Male', 'Male', ..., 'Female', 'Male', 'Female'],\n",
       "      dtype='<U6')"
      ]
     },
     "execution_count": 41,
     "metadata": {},
     "output_type": "execute_result"
    }
   ],
   "source": [
    "#Predicting using train set\n",
    "\n",
    "target_pred_train2 = mnb.predict(feature_train2)\n",
    "\n",
    "target_pred_train2"
   ]
  },
  {
   "cell_type": "code",
   "execution_count": 42,
   "id": "735e988c",
   "metadata": {},
   "outputs": [
    {
     "name": "stdout",
     "output_type": "stream",
     "text": [
      "Model Accuracy for Testing Set: 0.9600\n",
      "\n",
      "Model Accuracy for Training Set: 0.9569\n"
     ]
    }
   ],
   "source": [
    "#Checking accuracy of Training Set and Testing Set to check for Overfitting/Underfitting\n",
    "\n",
    "print('Model Accuracy for Testing Set: {0:0.4f}'. format(accuracy_score(target_test2, target_pred2)))\n",
    "\n",
    "print('\\nModel Accuracy for Training Set: {0:0.4f}'. format(accuracy_score(target_train2, target_pred_train2)))"
   ]
  },
  {
   "cell_type": "code",
   "execution_count": 43,
   "id": "17327d5b",
   "metadata": {},
   "outputs": [
    {
     "data": {
      "text/plain": [
       "count       1501\n",
       "unique         2\n",
       "top       Female\n",
       "freq         764\n",
       "Name: gender, dtype: object"
      ]
     },
     "execution_count": 43,
     "metadata": {},
     "output_type": "execute_result"
    }
   ],
   "source": [
    "#Comparing Null Accuracy and Model Accuracy\n",
    "\n",
    "target_test2.describe()"
   ]
  },
  {
   "cell_type": "code",
   "execution_count": 44,
   "id": "21b09412",
   "metadata": {},
   "outputs": [
    {
     "name": "stdout",
     "output_type": "stream",
     "text": [
      "Model Accuracy: 0.9600\n",
      "\n",
      "Null Accuracy: 0.5090\n"
     ]
    }
   ],
   "source": [
    "#Comparing Null Accuracy and Model Accuracy\n",
    "\n",
    "null_acc2 = target_test2.describe()[3] / target_test2.describe()[0]\n",
    "\n",
    "print('Model Accuracy: {0:0.4f}'. format(accuracy_score(target_test2, target_pred2)))\n",
    "\n",
    "print('\\nNull Accuracy: {0:0.4f}'. format(null_acc2))"
   ]
  },
  {
   "cell_type": "code",
   "execution_count": 45,
   "id": "8649351a",
   "metadata": {},
   "outputs": [
    {
     "name": "stdout",
     "output_type": "stream",
     "text": [
      "Confusion matrix\n",
      "\n",
      " [[709   5]\n",
      " [ 55 732]]\n",
      "\n",
      "True Positives(TP) =  709\n",
      "\n",
      "True Negatives(TN) =  732\n",
      "\n",
      "False Positives(FP) =  5\n",
      "\n",
      "False Negatives(FN) =  55\n"
     ]
    }
   ],
   "source": [
    "#Confusion Matrix\n",
    "\n",
    "cm2 = confusion_matrix(target_pred2, target_test2)\n",
    "\n",
    "print('Confusion matrix\\n\\n', cm2)\n",
    "\n",
    "print('\\nTrue Positives(TP) = ', cm2[0,0])\n",
    "\n",
    "print('\\nTrue Negatives(TN) = ', cm2[1,1])\n",
    "\n",
    "print('\\nFalse Positives(FP) = ', cm2[0,1])\n",
    "\n",
    "print('\\nFalse Negatives(FN) = ', cm2[1,0])"
   ]
  },
  {
   "cell_type": "code",
   "execution_count": 46,
   "id": "3015bdd6",
   "metadata": {},
   "outputs": [
    {
     "data": {
      "image/png": "[encoded data removed]",
      "text/plain": [
       "<Figure size 432x288 with 2 Axes>"
      ]
     },
     "metadata": {
      "needs_background": "light"
     },
     "output_type": "display_data"
    }
   ],
   "source": [
    "#Visualization of Confusion Matrix\n",
    "\n",
    "sns.heatmap(cm2, annot = True)\n",
    "plt.savefig('confusion2.png')"
   ]
  },
  {
   "cell_type": "code",
   "execution_count": null,
   "id": "60c336f1",
   "metadata": {},
   "outputs": [],
   "source": []
  }
 ],
 "metadata": {
  "kernelspec": {
   "display_name": "Python 3",
   "language": "python",
   "name": "python3"
  },
  "language_info": {
   "codemirror_mode": {
    "name": "ipython",
    "version": 3
   },
   "file_extension": ".py",
   "mimetype": "text/x-python",
   "name": "python",
   "nbconvert_exporter": "python",
   "pygments_lexer": "ipython3",
   "version": "3.8.8"
  }
 },
 "nbformat": 4,
 "nbformat_minor": 5
}
